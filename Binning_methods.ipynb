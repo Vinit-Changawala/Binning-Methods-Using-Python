{
  "nbformat": 4,
  "nbformat_minor": 0,
  "metadata": {
    "colab": {
      "name": "Binning_methods.ipynb",
      "provenance": [],
      "authorship_tag": "ABX9TyMJZZ4O8WoGWUvmHUV6XasO",
      "include_colab_link": true
    },
    "kernelspec": {
      "name": "python3",
      "display_name": "Python 3"
    },
    "language_info": {
      "name": "python"
    }
  },
  "cells": [
    {
      "cell_type": "markdown",
      "metadata": {
        "id": "view-in-github",
        "colab_type": "text"
      },
      "source": [
        "<a href=\"https://colab.research.google.com/github/Vinit-Changawala/Binning-Methods-Using-Python/blob/main/Binning_methods.ipynb\" target=\"_parent\"><img src=\"https://colab.research.google.com/assets/colab-badge.svg\" alt=\"Open In Colab\"/></a>"
      ]
    },
    {
      "cell_type": "code",
      "execution_count": 1,
      "metadata": {
        "colab": {
          "base_uri": "https://localhost:8080/"
        },
        "id": "SBwQhYc8PT1T",
        "outputId": "3a22a24e-2729-4c7e-d677-8db2f5eb4f40"
      },
      "outputs": [
        {
          "output_type": "stream",
          "name": "stdout",
          "text": [
            "Equal Bins: \n",
            " [[ 0.  1.  2.  2.]\n",
            " [ 3.  3.  4.  4.]\n",
            " [ 5.  5.  6.  8.]\n",
            " [ 9. 10. 12. 16.]]\n",
            "Bin Mean: \n",
            " [[ 1.25  1.25  1.25  1.25]\n",
            " [ 3.5   3.5   3.5   3.5 ]\n",
            " [ 6.    6.    6.    6.  ]\n",
            " [11.75 11.75 11.75 11.75]]\n",
            "Bin Boundaries: \n",
            " [[ 0.  2.  2.  2.]\n",
            " [ 3.  3.  4.  4.]\n",
            " [ 5.  5.  5.  8.]\n",
            " [ 9.  9.  9. 16.]]\n",
            "Bin Median: \n",
            " [[ 1.5  1.5  1.5  1.5]\n",
            " [ 3.5  3.5  3.5  3.5]\n",
            " [ 5.5  5.5  5.5  5.5]\n",
            " [11.  11.  11.  11. ]]\n"
          ]
        }
      ],
      "source": [
        "import numpy as np\n",
        "import math\n",
        "\n",
        "dataset = [2, 5, 4, 12, 16, 3, 0, 5, 1, 2, 3, 8, 10, 9, 6, 4]\n",
        "m=0\n",
        "\n",
        "b=np.sort(dataset)\n",
        "\n",
        "bin=np.zeros((4,4))\n",
        "bin1=np.zeros((4,4))\n",
        "bin2=np.zeros((4,4))\n",
        "bin3=np.zeros((4,4))\n",
        "\n",
        "for i in range (0,16,4):\n",
        "  k=int(i/4)\n",
        "  for j in range(4):\n",
        "    bin[k,j]=b[m];m=m+1\n",
        "print(\"Equal Bins: \\n\",bin)\n",
        "\n",
        "for i in range (0,16,4):\n",
        "  k=int(i/4)\n",
        "  mean=(b[i] + b[i+1] + b[i+2] + b[i+3])/4\n",
        "  for j in range(4):\n",
        "    bin1[k,j]=mean\n",
        "print(\"Bin Mean: \\n\",bin1)\n",
        "\n",
        "for i in range (0,16,4):\n",
        "  k=int(i/4)\n",
        "  for j in range (4):\n",
        "    if (b[i+j]-b[i]) < (b[i+3]-b[i+j]):\n",
        "      bin2[k,j]=b[i]\n",
        "    else:\n",
        "      bin2[k,j]=b[i+3]  \n",
        "print(\"Bin Boundaries: \\n\",bin2)\n",
        "\n",
        "for i in range (0,16,4):\n",
        "  k=int(i/4)\n",
        "  for j in range (4):\n",
        "    bin3[k,j]=(b[i+1] + b[i+2])/2\n",
        "print(\"Bin Median: \\n\",bin3)"
      ]
    },
    {
      "cell_type": "code",
      "source": [
        ""
      ],
      "metadata": {
        "id": "AFzCj9h7PU1G"
      },
      "execution_count": null,
      "outputs": []
    }
  ]
}